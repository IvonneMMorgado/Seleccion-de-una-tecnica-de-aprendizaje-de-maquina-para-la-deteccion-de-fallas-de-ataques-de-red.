{
  "cells": [
    {
      "cell_type": "markdown",
      "metadata": {
        "id": "E2Ex_tXgdfsd"
      },
      "source": [
        "# Modelo 2 - Voting Classifier\n",
        "\n",
        "En este segundo Notebook se presenta la construcción de dos modelos de prueba de [Voting Classifier](https://www.geeksforgeeks.org/voting-classifier/), para identificar si con la combinación de varios modelos más sencillos puede mejorar la precisión.\n",
        "\n",
        "El documento está organizado de la siguiente manera:\n",
        "\n",
        "1. Carga de la información\n",
        "2. **Modelo 1:** KNN, Regresión Logística y Bosque Aleatorio (Random Forest)\n",
        "3. **Modelo 2:** Random Forest, XGBoost y Adaboost Classifier\n",
        "4. Comentarios finales"
      ]
    },
    {
      "cell_type": "markdown",
      "source": [
        "# 1. Cargado de Base\n",
        "\n",
        "Para este ejercicio se utilizó la base de **CIC-DDoS2019**, que se carga a continuación junto con las demas librerías que se utilizaron en el ejercicio:"
      ],
      "metadata": {
        "id": "lePNHSsLMn6a"
      }
    },
    {
      "cell_type": "code",
      "execution_count": null,
      "metadata": {
        "colab": {
          "base_uri": "https://localhost:8080/"
        },
        "id": "GXJHrfLDbk54",
        "outputId": "bfbc89b0-eac7-4287-9fc0-8d8ce19050cc"
      },
      "outputs": [
        {
          "output_type": "stream",
          "name": "stdout",
          "text": [
            "Mounted at /content/drive\n"
          ]
        }
      ],
      "source": [
        "# Montado de drive para realizar el análisis\n",
        "from google.colab import drive\n",
        "drive.mount('/content/drive')\n",
        "#Librerías Utilizadas\n",
        "import pandas as pd # Manipulación de datos\n",
        "pd.options.display.float_format = '{:.1f}'.format # Adecuar formato de salidas de tablas a 1 posición decimal\n",
        "import seaborn as sns # Creación de gráficas\n",
        "import matplotlib.pyplot as plt # Formato de gráficas\n",
        "import numpy as np\n",
        "# Herramientas de análisis de modelos\n",
        "from sklearn.model_selection import train_test_split, GridSearchCV # Creación set entrenamiento - validación\n",
        "from sklearn.metrics import accuracy_score, confusion_matrix, classification_report, recall_score, f1_score # Medición de precisión\n",
        "from sklearn.preprocessing import LabelEncoder\n",
        "# Librerías modelo XGbost\n",
        "from xgboost import XGBClassifier # Modelo a entrenar\n",
        "from xgboost import plot_importance # Gráfica para ver pesos de las variables"
      ]
    },
    {
      "cell_type": "markdown",
      "source": [
        "Con estas librerías se realizó el cargue de la información, que corresponde a 431371 filas y 39 columnas y donde no hay valores nulos:"
      ],
      "metadata": {
        "id": "CDVB8zhDPTb7"
      }
    },
    {
      "cell_type": "code",
      "execution_count": null,
      "metadata": {
        "id": "IIBp5cuzcsKU"
      },
      "outputs": [],
      "source": [
        "df_CIC2019_corr = pd.read_parquet(\"/content/drive/MyDrive/Tesis - Machine Learning/Tesis - Machine Learning/E - Modelo predicción/Base/CICIDS2019_2.parquet\")"
      ]
    },
    {
      "cell_type": "code",
      "execution_count": null,
      "metadata": {
        "colab": {
          "base_uri": "https://localhost:8080/",
          "height": 307
        },
        "id": "UjBxQ5iqghD3",
        "outputId": "d8441ecb-55a4-4e0b-c933-e724717529d8"
      },
      "outputs": [
        {
          "output_type": "execute_result",
          "data": {
            "text/plain": [
              "   Protocol  Flow Duration  Total Fwd Packets  Total Backward Packets  \\\n",
              "0        17             48                  4                       0   \n",
              "1        17            557                112                       0   \n",
              "2         6         323228                 14                      12   \n",
              "3        17          46917                  2                       2   \n",
              "4        17            254                 58                       0   \n",
              "\n",
              "   Fwd Packets Length Total  Bwd Packets Length Total  Flow Bytes/s  \\\n",
              "0                    1616.0                       0.0    33666666.7   \n",
              "1                   49280.0                       0.0    88473967.7   \n",
              "2                    1736.0                     526.0        6998.2   \n",
              "3                      86.0                     118.0        4348.1   \n",
              "4                   25520.0                       0.0   100472440.9   \n",
              "\n",
              "   Flow Packets/s  Fwd PSH Flags  Fwd Header Length  ...  Fwd Seg Size Min  \\\n",
              "0         83333.3              0                 80  ...                20   \n",
              "1        201077.2              0                  0  ...                 0   \n",
              "2            80.4              0                304  ...                20   \n",
              "3            85.3              0                 40  ...                20   \n",
              "4        228346.5              0                -58  ...                -1   \n",
              "\n",
              "       Label  Packet Length Mean  Fwd Packet Length Mean  Active Mean  \\\n",
              "0  DrDoS_NTP               411.2                   404.0          0.0   \n",
              "1  DrDoS_NTP               440.0                   440.0          0.0   \n",
              "2     Benign                83.8                   124.0          0.0   \n",
              "3     Benign                49.4                    43.0          0.0   \n",
              "4  DrDoS_NTP               440.0                   440.0          0.0   \n",
              "\n",
              "   Fwd IAT Mean  Idle Mean  Bwd IAT Mean  Bwd Packet Length Mean  \\\n",
              "0          16.0        0.0           0.0                     0.0   \n",
              "1           5.0        0.0           0.0                     0.0   \n",
              "2       24863.7        0.0       15038.7                    43.8   \n",
              "3           3.0        0.0           2.0                    59.0   \n",
              "4           4.5        0.0           0.0                     0.0   \n",
              "\n",
              "   Flow IAT Mean  \n",
              "0           16.0  \n",
              "1            5.0  \n",
              "2        12929.1  \n",
              "3        15639.0  \n",
              "4            4.5  \n",
              "\n",
              "[5 rows x 39 columns]"
            ],
            "text/html": [
              "\n",
              "  <div id=\"df-a2423708-8923-482e-977b-e46a4ea04f01\" class=\"colab-df-container\">\n",
              "    <div>\n",
              "<style scoped>\n",
              "    .dataframe tbody tr th:only-of-type {\n",
              "        vertical-align: middle;\n",
              "    }\n",
              "\n",
              "    .dataframe tbody tr th {\n",
              "        vertical-align: top;\n",
              "    }\n",
              "\n",
              "    .dataframe thead th {\n",
              "        text-align: right;\n",
              "    }\n",
              "</style>\n",
              "<table border=\"1\" class=\"dataframe\">\n",
              "  <thead>\n",
              "    <tr style=\"text-align: right;\">\n",
              "      <th></th>\n",
              "      <th>Protocol</th>\n",
              "      <th>Flow Duration</th>\n",
              "      <th>Total Fwd Packets</th>\n",
              "      <th>Total Backward Packets</th>\n",
              "      <th>Fwd Packets Length Total</th>\n",
              "      <th>Bwd Packets Length Total</th>\n",
              "      <th>Flow Bytes/s</th>\n",
              "      <th>Flow Packets/s</th>\n",
              "      <th>Fwd PSH Flags</th>\n",
              "      <th>Fwd Header Length</th>\n",
              "      <th>...</th>\n",
              "      <th>Fwd Seg Size Min</th>\n",
              "      <th>Label</th>\n",
              "      <th>Packet Length Mean</th>\n",
              "      <th>Fwd Packet Length Mean</th>\n",
              "      <th>Active Mean</th>\n",
              "      <th>Fwd IAT Mean</th>\n",
              "      <th>Idle Mean</th>\n",
              "      <th>Bwd IAT Mean</th>\n",
              "      <th>Bwd Packet Length Mean</th>\n",
              "      <th>Flow IAT Mean</th>\n",
              "    </tr>\n",
              "  </thead>\n",
              "  <tbody>\n",
              "    <tr>\n",
              "      <th>0</th>\n",
              "      <td>17</td>\n",
              "      <td>48</td>\n",
              "      <td>4</td>\n",
              "      <td>0</td>\n",
              "      <td>1616.0</td>\n",
              "      <td>0.0</td>\n",
              "      <td>33666666.7</td>\n",
              "      <td>83333.3</td>\n",
              "      <td>0</td>\n",
              "      <td>80</td>\n",
              "      <td>...</td>\n",
              "      <td>20</td>\n",
              "      <td>DrDoS_NTP</td>\n",
              "      <td>411.2</td>\n",
              "      <td>404.0</td>\n",
              "      <td>0.0</td>\n",
              "      <td>16.0</td>\n",
              "      <td>0.0</td>\n",
              "      <td>0.0</td>\n",
              "      <td>0.0</td>\n",
              "      <td>16.0</td>\n",
              "    </tr>\n",
              "    <tr>\n",
              "      <th>1</th>\n",
              "      <td>17</td>\n",
              "      <td>557</td>\n",
              "      <td>112</td>\n",
              "      <td>0</td>\n",
              "      <td>49280.0</td>\n",
              "      <td>0.0</td>\n",
              "      <td>88473967.7</td>\n",
              "      <td>201077.2</td>\n",
              "      <td>0</td>\n",
              "      <td>0</td>\n",
              "      <td>...</td>\n",
              "      <td>0</td>\n",
              "      <td>DrDoS_NTP</td>\n",
              "      <td>440.0</td>\n",
              "      <td>440.0</td>\n",
              "      <td>0.0</td>\n",
              "      <td>5.0</td>\n",
              "      <td>0.0</td>\n",
              "      <td>0.0</td>\n",
              "      <td>0.0</td>\n",
              "      <td>5.0</td>\n",
              "    </tr>\n",
              "    <tr>\n",
              "      <th>2</th>\n",
              "      <td>6</td>\n",
              "      <td>323228</td>\n",
              "      <td>14</td>\n",
              "      <td>12</td>\n",
              "      <td>1736.0</td>\n",
              "      <td>526.0</td>\n",
              "      <td>6998.2</td>\n",
              "      <td>80.4</td>\n",
              "      <td>0</td>\n",
              "      <td>304</td>\n",
              "      <td>...</td>\n",
              "      <td>20</td>\n",
              "      <td>Benign</td>\n",
              "      <td>83.8</td>\n",
              "      <td>124.0</td>\n",
              "      <td>0.0</td>\n",
              "      <td>24863.7</td>\n",
              "      <td>0.0</td>\n",
              "      <td>15038.7</td>\n",
              "      <td>43.8</td>\n",
              "      <td>12929.1</td>\n",
              "    </tr>\n",
              "    <tr>\n",
              "      <th>3</th>\n",
              "      <td>17</td>\n",
              "      <td>46917</td>\n",
              "      <td>2</td>\n",
              "      <td>2</td>\n",
              "      <td>86.0</td>\n",
              "      <td>118.0</td>\n",
              "      <td>4348.1</td>\n",
              "      <td>85.3</td>\n",
              "      <td>0</td>\n",
              "      <td>40</td>\n",
              "      <td>...</td>\n",
              "      <td>20</td>\n",
              "      <td>Benign</td>\n",
              "      <td>49.4</td>\n",
              "      <td>43.0</td>\n",
              "      <td>0.0</td>\n",
              "      <td>3.0</td>\n",
              "      <td>0.0</td>\n",
              "      <td>2.0</td>\n",
              "      <td>59.0</td>\n",
              "      <td>15639.0</td>\n",
              "    </tr>\n",
              "    <tr>\n",
              "      <th>4</th>\n",
              "      <td>17</td>\n",
              "      <td>254</td>\n",
              "      <td>58</td>\n",
              "      <td>0</td>\n",
              "      <td>25520.0</td>\n",
              "      <td>0.0</td>\n",
              "      <td>100472440.9</td>\n",
              "      <td>228346.5</td>\n",
              "      <td>0</td>\n",
              "      <td>-58</td>\n",
              "      <td>...</td>\n",
              "      <td>-1</td>\n",
              "      <td>DrDoS_NTP</td>\n",
              "      <td>440.0</td>\n",
              "      <td>440.0</td>\n",
              "      <td>0.0</td>\n",
              "      <td>4.5</td>\n",
              "      <td>0.0</td>\n",
              "      <td>0.0</td>\n",
              "      <td>0.0</td>\n",
              "      <td>4.5</td>\n",
              "    </tr>\n",
              "  </tbody>\n",
              "</table>\n",
              "<p>5 rows × 39 columns</p>\n",
              "</div>\n",
              "    <div class=\"colab-df-buttons\">\n",
              "\n",
              "  <div class=\"colab-df-container\">\n",
              "    <button class=\"colab-df-convert\" onclick=\"convertToInteractive('df-a2423708-8923-482e-977b-e46a4ea04f01')\"\n",
              "            title=\"Convert this dataframe to an interactive table.\"\n",
              "            style=\"display:none;\">\n",
              "\n",
              "  <svg xmlns=\"http://www.w3.org/2000/svg\" height=\"24px\" viewBox=\"0 -960 960 960\">\n",
              "    <path d=\"M120-120v-720h720v720H120Zm60-500h600v-160H180v160Zm220 220h160v-160H400v160Zm0 220h160v-160H400v160ZM180-400h160v-160H180v160Zm440 0h160v-160H620v160ZM180-180h160v-160H180v160Zm440 0h160v-160H620v160Z\"/>\n",
              "  </svg>\n",
              "    </button>\n",
              "\n",
              "  <style>\n",
              "    .colab-df-container {\n",
              "      display:flex;\n",
              "      gap: 12px;\n",
              "    }\n",
              "\n",
              "    .colab-df-convert {\n",
              "      background-color: #E8F0FE;\n",
              "      border: none;\n",
              "      border-radius: 50%;\n",
              "      cursor: pointer;\n",
              "      display: none;\n",
              "      fill: #1967D2;\n",
              "      height: 32px;\n",
              "      padding: 0 0 0 0;\n",
              "      width: 32px;\n",
              "    }\n",
              "\n",
              "    .colab-df-convert:hover {\n",
              "      background-color: #E2EBFA;\n",
              "      box-shadow: 0px 1px 2px rgba(60, 64, 67, 0.3), 0px 1px 3px 1px rgba(60, 64, 67, 0.15);\n",
              "      fill: #174EA6;\n",
              "    }\n",
              "\n",
              "    .colab-df-buttons div {\n",
              "      margin-bottom: 4px;\n",
              "    }\n",
              "\n",
              "    [theme=dark] .colab-df-convert {\n",
              "      background-color: #3B4455;\n",
              "      fill: #D2E3FC;\n",
              "    }\n",
              "\n",
              "    [theme=dark] .colab-df-convert:hover {\n",
              "      background-color: #434B5C;\n",
              "      box-shadow: 0px 1px 3px 1px rgba(0, 0, 0, 0.15);\n",
              "      filter: drop-shadow(0px 1px 2px rgba(0, 0, 0, 0.3));\n",
              "      fill: #FFFFFF;\n",
              "    }\n",
              "  </style>\n",
              "\n",
              "    <script>\n",
              "      const buttonEl =\n",
              "        document.querySelector('#df-a2423708-8923-482e-977b-e46a4ea04f01 button.colab-df-convert');\n",
              "      buttonEl.style.display =\n",
              "        google.colab.kernel.accessAllowed ? 'block' : 'none';\n",
              "\n",
              "      async function convertToInteractive(key) {\n",
              "        const element = document.querySelector('#df-a2423708-8923-482e-977b-e46a4ea04f01');\n",
              "        const dataTable =\n",
              "          await google.colab.kernel.invokeFunction('convertToInteractive',\n",
              "                                                    [key], {});\n",
              "        if (!dataTable) return;\n",
              "\n",
              "        const docLinkHtml = 'Like what you see? Visit the ' +\n",
              "          '<a target=\"_blank\" href=https://colab.research.google.com/notebooks/data_table.ipynb>data table notebook</a>'\n",
              "          + ' to learn more about interactive tables.';\n",
              "        element.innerHTML = '';\n",
              "        dataTable['output_type'] = 'display_data';\n",
              "        await google.colab.output.renderOutput(dataTable, element);\n",
              "        const docLink = document.createElement('div');\n",
              "        docLink.innerHTML = docLinkHtml;\n",
              "        element.appendChild(docLink);\n",
              "      }\n",
              "    </script>\n",
              "  </div>\n",
              "\n",
              "\n",
              "<div id=\"df-046cc612-5a00-429f-9baf-08b3c7380a43\">\n",
              "  <button class=\"colab-df-quickchart\" onclick=\"quickchart('df-046cc612-5a00-429f-9baf-08b3c7380a43')\"\n",
              "            title=\"Suggest charts\"\n",
              "            style=\"display:none;\">\n",
              "\n",
              "<svg xmlns=\"http://www.w3.org/2000/svg\" height=\"24px\"viewBox=\"0 0 24 24\"\n",
              "     width=\"24px\">\n",
              "    <g>\n",
              "        <path d=\"M19 3H5c-1.1 0-2 .9-2 2v14c0 1.1.9 2 2 2h14c1.1 0 2-.9 2-2V5c0-1.1-.9-2-2-2zM9 17H7v-7h2v7zm4 0h-2V7h2v10zm4 0h-2v-4h2v4z\"/>\n",
              "    </g>\n",
              "</svg>\n",
              "  </button>\n",
              "\n",
              "<style>\n",
              "  .colab-df-quickchart {\n",
              "      --bg-color: #E8F0FE;\n",
              "      --fill-color: #1967D2;\n",
              "      --hover-bg-color: #E2EBFA;\n",
              "      --hover-fill-color: #174EA6;\n",
              "      --disabled-fill-color: #AAA;\n",
              "      --disabled-bg-color: #DDD;\n",
              "  }\n",
              "\n",
              "  [theme=dark] .colab-df-quickchart {\n",
              "      --bg-color: #3B4455;\n",
              "      --fill-color: #D2E3FC;\n",
              "      --hover-bg-color: #434B5C;\n",
              "      --hover-fill-color: #FFFFFF;\n",
              "      --disabled-bg-color: #3B4455;\n",
              "      --disabled-fill-color: #666;\n",
              "  }\n",
              "\n",
              "  .colab-df-quickchart {\n",
              "    background-color: var(--bg-color);\n",
              "    border: none;\n",
              "    border-radius: 50%;\n",
              "    cursor: pointer;\n",
              "    display: none;\n",
              "    fill: var(--fill-color);\n",
              "    height: 32px;\n",
              "    padding: 0;\n",
              "    width: 32px;\n",
              "  }\n",
              "\n",
              "  .colab-df-quickchart:hover {\n",
              "    background-color: var(--hover-bg-color);\n",
              "    box-shadow: 0 1px 2px rgba(60, 64, 67, 0.3), 0 1px 3px 1px rgba(60, 64, 67, 0.15);\n",
              "    fill: var(--button-hover-fill-color);\n",
              "  }\n",
              "\n",
              "  .colab-df-quickchart-complete:disabled,\n",
              "  .colab-df-quickchart-complete:disabled:hover {\n",
              "    background-color: var(--disabled-bg-color);\n",
              "    fill: var(--disabled-fill-color);\n",
              "    box-shadow: none;\n",
              "  }\n",
              "\n",
              "  .colab-df-spinner {\n",
              "    border: 2px solid var(--fill-color);\n",
              "    border-color: transparent;\n",
              "    border-bottom-color: var(--fill-color);\n",
              "    animation:\n",
              "      spin 1s steps(1) infinite;\n",
              "  }\n",
              "\n",
              "  @keyframes spin {\n",
              "    0% {\n",
              "      border-color: transparent;\n",
              "      border-bottom-color: var(--fill-color);\n",
              "      border-left-color: var(--fill-color);\n",
              "    }\n",
              "    20% {\n",
              "      border-color: transparent;\n",
              "      border-left-color: var(--fill-color);\n",
              "      border-top-color: var(--fill-color);\n",
              "    }\n",
              "    30% {\n",
              "      border-color: transparent;\n",
              "      border-left-color: var(--fill-color);\n",
              "      border-top-color: var(--fill-color);\n",
              "      border-right-color: var(--fill-color);\n",
              "    }\n",
              "    40% {\n",
              "      border-color: transparent;\n",
              "      border-right-color: var(--fill-color);\n",
              "      border-top-color: var(--fill-color);\n",
              "    }\n",
              "    60% {\n",
              "      border-color: transparent;\n",
              "      border-right-color: var(--fill-color);\n",
              "    }\n",
              "    80% {\n",
              "      border-color: transparent;\n",
              "      border-right-color: var(--fill-color);\n",
              "      border-bottom-color: var(--fill-color);\n",
              "    }\n",
              "    90% {\n",
              "      border-color: transparent;\n",
              "      border-bottom-color: var(--fill-color);\n",
              "    }\n",
              "  }\n",
              "</style>\n",
              "\n",
              "  <script>\n",
              "    async function quickchart(key) {\n",
              "      const quickchartButtonEl =\n",
              "        document.querySelector('#' + key + ' button');\n",
              "      quickchartButtonEl.disabled = true;  // To prevent multiple clicks.\n",
              "      quickchartButtonEl.classList.add('colab-df-spinner');\n",
              "      try {\n",
              "        const charts = await google.colab.kernel.invokeFunction(\n",
              "            'suggestCharts', [key], {});\n",
              "      } catch (error) {\n",
              "        console.error('Error during call to suggestCharts:', error);\n",
              "      }\n",
              "      quickchartButtonEl.classList.remove('colab-df-spinner');\n",
              "      quickchartButtonEl.classList.add('colab-df-quickchart-complete');\n",
              "    }\n",
              "    (() => {\n",
              "      let quickchartButtonEl =\n",
              "        document.querySelector('#df-046cc612-5a00-429f-9baf-08b3c7380a43 button');\n",
              "      quickchartButtonEl.style.display =\n",
              "        google.colab.kernel.accessAllowed ? 'block' : 'none';\n",
              "    })();\n",
              "  </script>\n",
              "</div>\n",
              "\n",
              "    </div>\n",
              "  </div>\n"
            ],
            "application/vnd.google.colaboratory.intrinsic+json": {
              "type": "dataframe",
              "variable_name": "df_CIC2019_corr"
            }
          },
          "metadata": {},
          "execution_count": 5
        }
      ],
      "source": [
        "df_CIC2019_corr.head(5)"
      ]
    },
    {
      "cell_type": "code",
      "execution_count": null,
      "metadata": {
        "colab": {
          "base_uri": "https://localhost:8080/"
        },
        "id": "bx9Vpuu6gj8c",
        "outputId": "007b5c28-f6bc-4ec8-bf0c-b7f9d2ecb18e"
      },
      "outputs": [
        {
          "output_type": "execute_result",
          "data": {
            "text/plain": [
              "Protocol                    0\n",
              "Fwd Seg Size Min            0\n",
              "Subflow Fwd Packets         0\n",
              "Subflow Fwd Bytes           0\n",
              "Subflow Bwd Packets         0\n",
              "Subflow Bwd Bytes           0\n",
              "Init Fwd Win Bytes          0\n",
              "Init Bwd Win Bytes          0\n",
              "Fwd Act Data Packets        0\n",
              "Label                       0\n",
              "Avg Fwd Segment Size        0\n",
              "Packet Length Mean          0\n",
              "Fwd Packet Length Mean      0\n",
              "Active Mean                 0\n",
              "Fwd IAT Mean                0\n",
              "Idle Mean                   0\n",
              "Bwd IAT Mean                0\n",
              "Bwd Packet Length Mean      0\n",
              "Avg Bwd Segment Size        0\n",
              "Avg Packet Size             0\n",
              "Flow Duration               0\n",
              "Fwd Header Length           0\n",
              "Total Fwd Packets           0\n",
              "Total Backward Packets      0\n",
              "Fwd Packets Length Total    0\n",
              "Bwd Packets Length Total    0\n",
              "Flow Bytes/s                0\n",
              "Flow Packets/s              0\n",
              "Fwd PSH Flags               0\n",
              "Bwd Header Length           0\n",
              "Down/Up Ratio               0\n",
              "Fwd Packets/s               0\n",
              "Bwd Packets/s               0\n",
              "SYN Flag Count              0\n",
              "RST Flag Count              0\n",
              "ACK Flag Count              0\n",
              "URG Flag Count              0\n",
              "CWE Flag Count              0\n",
              "Flow IAT Mean               0\n",
              "dtype: int64"
            ]
          },
          "metadata": {},
          "execution_count": 6
        }
      ],
      "source": [
        "# Revisión de Valores Nulos\n",
        "df_CIC2019_corr.isna().sum().sort_values(ascending=False)"
      ]
    },
    {
      "cell_type": "markdown",
      "metadata": {
        "id": "5dspDlJ08giN"
      },
      "source": [
        "# 2. Modelo 1\n",
        "\n",
        "Como punto de referencia, se crearon los dataset de entrenamiento y validación para esta base, con una proporción de 80-20:\n"
      ]
    },
    {
      "cell_type": "code",
      "execution_count": null,
      "metadata": {
        "id": "SqOModRW-SAk"
      },
      "outputs": [],
      "source": [
        "from sklearn.preprocessing import normalize\n",
        "# Variables a entrenar - Normalizadas\n",
        "X1 = normalize(df_CIC2019_corr.drop(columns=\"Label\"))\n",
        "# Variable objetivo - sospechosos\n",
        "le = LabelEncoder()\n",
        "#Conversión de texto a numero (XGBOOST no funciona con variables tipo STRING)\n",
        "encoded = le.fit_transform(df_CIC2019_corr[\"Label\"])\n",
        "y = encoded\n",
        "# División entrenamiento - rest con ratio de 80% - 20%\n",
        "X_train, X_test, y_train, y_test = train_test_split(X1, y, test_size=0.2, random_state=42)"
      ]
    },
    {
      "cell_type": "markdown",
      "source": [
        "Posteriormente, se escogieron los siguientes 3 modelos, cada uno correspondiente a un tipo de modelo de Machine Learning:\n",
        "\n",
        "* **Logistic Regression:** Modelo de Regresión Lineal\n",
        "* **Random Forest:** Modelo de Bosque aleatorio con los valores predeterminados\n",
        "* **KNN:** Modelo de vecinos más cercanos"
      ],
      "metadata": {
        "id": "-UCivdETctOh"
      }
    },
    {
      "cell_type": "code",
      "source": [
        "# Listado de Estimadores\n",
        "from sklearn.ensemble import VotingClassifier\n",
        "from sklearn.linear_model import LogisticRegression\n",
        "from sklearn.ensemble import AdaBoostClassifier, RandomForestClassifier\n",
        "from sklearn.neighbors import KNeighborsClassifier\n",
        "# Creación de estimador 1 en una lista\n",
        "estimador = []\n",
        "estimador.append(('LogisticRegression', LogisticRegression(max_iter = 500)))\n",
        "estimador.append(('RandomForest', RandomForestClassifier() ))\n",
        "estimador.append(('KNN', KNeighborsClassifier() ))"
      ],
      "metadata": {
        "id": "v55ilHMXQX1t"
      },
      "execution_count": null,
      "outputs": []
    },
    {
      "cell_type": "markdown",
      "source": [
        "Para tener un punto de referencia, se entrenó cada modelo por separado. Además, de acuerdo con los análisis previos, se normalizaron los datos para disminuir el efecto de los valores atípicos en la predicción de los modelos diferentes a los basados en árboles:"
      ],
      "metadata": {
        "id": "SVwkGH12hRld"
      }
    },
    {
      "cell_type": "code",
      "source": [
        "import time\n",
        "predictions_df = pd.DataFrame()\n",
        "for i,j in estimador:\n",
        "  inicio = time.time()\n",
        "  model=j\n",
        "  model.fit(X_train, y_train)\n",
        "  predictions = model.predict(X_test)\n",
        "  predictions_df[i] = predictions\n",
        "  print(i,\" :\" ,accuracy_score(y_test, predictions))\n",
        "  final = time.time()\n",
        "  ejecucion = final - inicio\n",
        "  print(f\"Tiempo de ejecución: {ejecucion} segundos\")"
      ],
      "metadata": {
        "colab": {
          "base_uri": "https://localhost:8080/"
        },
        "id": "N4uFTUh6c5NH",
        "outputId": "92455b50-5dac-4e2d-f2f1-4f7ac67fda29"
      },
      "execution_count": null,
      "outputs": [
        {
          "output_type": "stream",
          "name": "stderr",
          "text": [
            "/usr/local/lib/python3.10/dist-packages/sklearn/linear_model/_logistic.py:458: ConvergenceWarning: lbfgs failed to converge (status=1):\n",
            "STOP: TOTAL NO. of ITERATIONS REACHED LIMIT.\n",
            "\n",
            "Increase the number of iterations (max_iter) or scale the data as shown in:\n",
            "    https://scikit-learn.org/stable/modules/preprocessing.html\n",
            "Please also refer to the documentation for alternative solver options:\n",
            "    https://scikit-learn.org/stable/modules/linear_model.html#logistic-regression\n",
            "  n_iter_i = _check_optimize_result(\n"
          ]
        },
        {
          "output_type": "stream",
          "name": "stdout",
          "text": [
            "LogisticRegression  : 0.8525297015357868\n",
            "Tiempo de ejecución: 119.03530502319336 segundos\n",
            "RandomForest  : 0.9800521587945523\n",
            "Tiempo de ejecución: 132.28424215316772 segundos\n",
            "KNN  : 0.9757055925818603\n",
            "Tiempo de ejecución: 172.36080193519592 segundos\n"
          ]
        }
      ]
    },
    {
      "cell_type": "markdown",
      "source": [
        "Como se evidencia, el modelo de Regresión Logística tiene la menor precisión, cerca del 85%, mientras que tanto el de Random Forest como el de KNN tienen una precisión de más del 90%. Con esto en cuenta, se construyó el modelo de clasificación por Votación de forma \"soft\", es decir, a partir del promedio de predicción de cada uno de los modelos para evidenciar si hay algún tipo de mejoría:"
      ],
      "metadata": {
        "id": "ZeyYSIeQq0Yx"
      }
    },
    {
      "cell_type": "code",
      "source": [
        "%%time\n",
        "VC_soft = VotingClassifier(estimators = estimador, voting ='soft')\n",
        "VC_soft.fit(X_train, y_train)\n",
        "y_pred = VC_soft.predict(X_test)"
      ],
      "metadata": {
        "colab": {
          "base_uri": "https://localhost:8080/"
        },
        "id": "HJdzB5ViRvhk",
        "outputId": "19ecde48-e4f3-482c-c3fa-430634bc0911"
      },
      "execution_count": null,
      "outputs": [
        {
          "output_type": "stream",
          "name": "stderr",
          "text": [
            "/usr/local/lib/python3.10/dist-packages/sklearn/linear_model/_logistic.py:458: ConvergenceWarning: lbfgs failed to converge (status=1):\n",
            "STOP: TOTAL NO. of ITERATIONS REACHED LIMIT.\n",
            "\n",
            "Increase the number of iterations (max_iter) or scale the data as shown in:\n",
            "    https://scikit-learn.org/stable/modules/preprocessing.html\n",
            "Please also refer to the documentation for alternative solver options:\n",
            "    https://scikit-learn.org/stable/modules/linear_model.html#logistic-regression\n",
            "  n_iter_i = _check_optimize_result(\n"
          ]
        },
        {
          "output_type": "stream",
          "name": "stdout",
          "text": [
            "CPU times: user 9min 8s, sys: 1min 9s, total: 10min 18s\n",
            "Wall time: 7min 2s\n"
          ]
        }
      ]
    },
    {
      "cell_type": "markdown",
      "source": [
        "A continuación se presenta el resumen de las métricas para cada ataque, evidenciando que tienen menor volumetría (Columna `support`) son las que tienen menores valores de precisión, recall y f1-score:"
      ],
      "metadata": {
        "id": "Kcx6HsqYrW7H"
      }
    },
    {
      "cell_type": "code",
      "source": [
        "print(classification_report(y_test, y_pred))"
      ],
      "metadata": {
        "colab": {
          "base_uri": "https://localhost:8080/"
        },
        "id": "p95z8L9VR_0H",
        "outputId": "7bdec68d-b01e-4fcc-87d2-30aacf1c8c31"
      },
      "execution_count": null,
      "outputs": [
        {
          "output_type": "stream",
          "name": "stdout",
          "text": [
            "              precision    recall  f1-score   support\n",
            "\n",
            "           0       0.99      1.00      1.00     19542\n",
            "           1       0.67      0.39      0.49       771\n",
            "           2       0.99      1.00      0.99     24236\n",
            "           3       0.73      0.60      0.66       526\n",
            "           4       0.62      0.73      0.67       718\n",
            "           5       0.88      0.97      0.92      2906\n",
            "           6       0.64      0.70      0.67       257\n",
            "           7       0.65      0.32      0.43       153\n",
            "           8       0.99      0.99      0.99      9857\n",
            "           9       1.00      1.00      1.00     19791\n",
            "          10       0.98      0.95      0.97      7504\n",
            "          11       0.00      0.00      0.00        14\n",
            "\n",
            "    accuracy                           0.98     86275\n",
            "   macro avg       0.76      0.72      0.73     86275\n",
            "weighted avg       0.98      0.98      0.98     86275\n",
            "\n"
          ]
        }
      ]
    },
    {
      "cell_type": "markdown",
      "source": [
        "Para validar los resultados, se obtuvieron las métricas de análisis por separado. En estas métricas, se identificó que el modelo tuvo un peor desempeño en comparación con el modelo de Random Forest por separado. Esto muestra que la combinación de varios tipos de modelo no siempre implica una mejor precisión."
      ],
      "metadata": {
        "id": "7YMzKE0vr0az"
      }
    },
    {
      "cell_type": "code",
      "execution_count": null,
      "metadata": {
        "colab": {
          "base_uri": "https://localhost:8080/"
        },
        "id": "lBTut_ZyAmZJ",
        "outputId": "f22c733a-f101-47e0-e8fd-4b9cb8605e71"
      },
      "outputs": [
        {
          "output_type": "stream",
          "name": "stdout",
          "text": [
            "Precisión: 0.9787076209794262\n",
            "Recall: 0.9787076209794262\n",
            "F1 score: 0.9775970770390191\n"
          ]
        }
      ],
      "source": [
        "y_model = VC_soft.predict(X_test)\n",
        "#Precisión\n",
        "acc = accuracy_score(y_test,y_model)\n",
        "print(f\"Precisión: {acc}\")\n",
        "#Recall\n",
        "rec = recall_score(y_test,y_model, average= \"weighted\") # Parametro weighted para calcular de acuerdo con cantidad\n",
        "print(f\"Recall: {rec}\")\n",
        "# F1 - Score\n",
        "f1 = f1_score(y_test,y_model, average= \"weighted\") # Parametro weighted para calcular de acuerdo con cantidad\n",
        "print(f\"F1 score: {f1}\")"
      ]
    },
    {
      "cell_type": "markdown",
      "source": [
        "Como complemento, se construyó la matriz de confusión, que es similar a la obtenida en el modelo de prueba de XGBoost del notebook anterior, con una mejor precisión para los tipos de ataque con mayor número de registros:"
      ],
      "metadata": {
        "id": "OAbj0Y9EscaC"
      }
    },
    {
      "cell_type": "code",
      "execution_count": null,
      "metadata": {
        "colab": {
          "base_uri": "https://localhost:8080/",
          "height": 847
        },
        "id": "Ygs9SlSkNYI_",
        "outputId": "32e83246-aefa-4161-f470-a3209d7ff71b"
      },
      "outputs": [
        {
          "output_type": "execute_result",
          "data": {
            "text/plain": [
              "<Axes: >"
            ]
          },
          "metadata": {},
          "execution_count": 12
        },
        {
          "output_type": "display_data",
          "data": {
            "text/plain": [
              "<Figure size 1200x900 with 2 Axes>"
            ],
            "image/png": "[encoded data removed]"
          },
          "metadata": {}
        }
      ],
      "source": [
        "# Matriz Normalizada\n",
        "plt.figure(figsize=(12,9))\n",
        "cm=confusion_matrix(y_test, y_model)\n",
        "# Proceso de normalización\n",
        "cm_normalized= cm.astype('float') / cm.sum(axis=1)[:, np.newaxis]\n",
        "sns.heatmap(cm_normalized,annot=True, fmt=\".2f\", cmap=\"Blues\", xticklabels=le.classes_,yticklabels=le.classes_)"
      ]
    },
    {
      "cell_type": "markdown",
      "source": [
        "# 3. Modelo 2\n",
        "\n",
        "El ejercicio se repitió para los siguientes modelos:\n",
        "\n",
        "* **XGBoost:** Modelo con mejor precisión y desempeño con respecto a los demás\n",
        "* **Random Forest:** Modelo de mejor desempeño de prueba anterior\n",
        "* **Adaboost:** Modelo de arbol para comparar otros puntos de mejora"
      ],
      "metadata": {
        "id": "wut7126WdK8L"
      }
    },
    {
      "cell_type": "code",
      "source": [
        "# Creación de lista con estimadores\n",
        "estimador2 = []\n",
        "estimador2.append(('RandomForest', RandomForestClassifier() ))\n",
        "estimador2.append(('XGB', XGBClassifier(tree_method = \"hist\", device = \"cuda\") ))\n",
        "estimador2.append(('AdaBoostClassifier', AdaBoostClassifier() ))"
      ],
      "metadata": {
        "id": "CGTtf2zHd7Ex"
      },
      "execution_count": null,
      "outputs": []
    },
    {
      "cell_type": "markdown",
      "source": [
        "Al evaluar los modelos por separado, se identificó que los modelos de Random Forest y de XGBoost alcanzan una precisión cercana al 98% mientras que en el de AdaBoost es igual a 75%."
      ],
      "metadata": {
        "id": "mu1ow8wftCLG"
      }
    },
    {
      "cell_type": "code",
      "source": [
        "for i,j in estimador2:\n",
        "  inicio = time.time()\n",
        "  model=j\n",
        "  model.fit(X_train, y_train)\n",
        "  predictions = model.predict(X_test)\n",
        "  predictions_df[i] = predictions\n",
        "  print(i,\" :\" ,accuracy_score(y_test, predictions))\n",
        "  final = time.time()\n",
        "  ejecucion = final - inicio\n",
        "  print(f\"Tiempo de ejecución: {ejecucion} segundos\")"
      ],
      "metadata": {
        "colab": {
          "base_uri": "https://localhost:8080/"
        },
        "id": "HEncNM0neafD",
        "outputId": "b381f9db-6489-4442-b81f-6be2223dfa48"
      },
      "execution_count": null,
      "outputs": [
        {
          "output_type": "stream",
          "name": "stdout",
          "text": [
            "RandomForest  : 0.9799594320486815\n",
            "Tiempo de ejecución: 130.23930597305298 segundos\n"
          ]
        },
        {
          "output_type": "stream",
          "name": "stderr",
          "text": [
            "/usr/local/lib/python3.10/dist-packages/xgboost/core.py:160: UserWarning: [16:33:34] WARNING: /workspace/src/common/error_msg.cc:58: Falling back to prediction using DMatrix due to mismatched devices. This might lead to higher memory usage and slower performance. XGBoost is running on: cuda:0, while the input data is on: cpu.\n",
            "Potential solutions:\n",
            "- Use a data structure that matches the device ordinal in the booster.\n",
            "- Set the device for booster before call to inplace_predict.\n",
            "\n",
            "This warning will only be shown once.\n",
            "\n",
            "  warnings.warn(smsg, UserWarning)\n"
          ]
        },
        {
          "output_type": "stream",
          "name": "stdout",
          "text": [
            "XGB  : 0.9818487394957983\n",
            "Tiempo de ejecución: 9.569921493530273 segundos\n",
            "AdaBoostClassifier  : 0.7490002897710808\n",
            "Tiempo de ejecución: 63.54382014274597 segundos\n"
          ]
        }
      ]
    },
    {
      "cell_type": "markdown",
      "source": [
        "Luego, al entrenar el modelo se identifica que la precisión y demás parámetros son ligeramente menores a los obtenidos por el modelo de XGBoost por si solo:"
      ],
      "metadata": {
        "id": "v9_WcHxwt_4p"
      }
    },
    {
      "cell_type": "code",
      "source": [
        "%%time\n",
        "VC_soft = VotingClassifier(estimators = estimador2, voting ='soft')\n",
        "VC_soft.fit(X_train, y_train)\n",
        "y_pred = VC_soft.predict(X_test)"
      ],
      "metadata": {
        "colab": {
          "base_uri": "https://localhost:8080/"
        },
        "id": "OEVJuX__emdD",
        "outputId": "2037b026-0728-47b3-ed9e-96d630f9352c"
      },
      "execution_count": null,
      "outputs": [
        {
          "output_type": "stream",
          "name": "stdout",
          "text": [
            "CPU times: user 3min 22s, sys: 2.25 s, total: 3min 25s\n",
            "Wall time: 3min 26s\n"
          ]
        }
      ]
    },
    {
      "cell_type": "code",
      "source": [
        "y_model = VC_soft.predict(X_test)\n",
        "#Precisión\n",
        "acc = accuracy_score(y_test,y_model)\n",
        "print(f\"Precisión: {acc}\")\n",
        "#Recall\n",
        "rec = recall_score(y_test,y_model, average= \"weighted\") # Parametro weighted para calcular de acuerdo con cantidad\n",
        "print(f\"Recall: {rec}\")\n",
        "# F1 - Score\n",
        "f1 = f1_score(y_test,y_model, average= \"weighted\") # Parametro weighted para calcular de acuerdo con cantidad\n",
        "print(f\"F1 score: {f1}\")"
      ],
      "metadata": {
        "colab": {
          "base_uri": "https://localhost:8080/"
        },
        "id": "w9XkMHIxevYy",
        "outputId": "cc478fb2-fb2e-41ec-a2e7-3d8c0da06f15"
      },
      "execution_count": null,
      "outputs": [
        {
          "output_type": "stream",
          "name": "stdout",
          "text": [
            "Precisión: 0.9815937409446537\n",
            "Recall: 0.9815937409446537\n",
            "F1 score: 0.9807986148533306\n"
          ]
        }
      ]
    },
    {
      "cell_type": "markdown",
      "source": [
        "Los valores de desempeño son similares a los obtenidos en el primer modelo de votación, tanto en las métricas principales como en la matriz de confusión"
      ],
      "metadata": {
        "id": "mgzu_dZkv5Rs"
      }
    },
    {
      "cell_type": "code",
      "source": [
        "print(classification_report(y_test, y_pred))"
      ],
      "metadata": {
        "colab": {
          "base_uri": "https://localhost:8080/"
        },
        "id": "fQumkQujepfm",
        "outputId": "46519b9b-d461-43cd-be2d-673b9bfe08fb"
      },
      "execution_count": null,
      "outputs": [
        {
          "output_type": "stream",
          "name": "stdout",
          "text": [
            "              precision    recall  f1-score   support\n",
            "\n",
            "           0       1.00      1.00      1.00     19542\n",
            "           1       0.69      0.38      0.49       771\n",
            "           2       1.00      1.00      1.00     24236\n",
            "           3       0.63      0.74      0.68       526\n",
            "           4       0.64      0.70      0.67       718\n",
            "           5       0.88      0.96      0.92      2906\n",
            "           6       0.64      0.74      0.69       257\n",
            "           7       0.70      0.35      0.46       153\n",
            "           8       1.00      0.99      0.99      9857\n",
            "           9       1.00      1.00      1.00     19791\n",
            "          10       0.98      0.97      0.98      7504\n",
            "          11       0.14      0.07      0.10        14\n",
            "\n",
            "    accuracy                           0.98     86275\n",
            "   macro avg       0.77      0.74      0.75     86275\n",
            "weighted avg       0.98      0.98      0.98     86275\n",
            "\n"
          ]
        }
      ]
    },
    {
      "cell_type": "code",
      "source": [
        "# Matriz Normalizada\n",
        "plt.figure(figsize=(12,9))\n",
        "cm=confusion_matrix(y_test, y_model)\n",
        "# Proceso de normalización\n",
        "cm_normalized= cm.astype('float') / cm.sum(axis=1)[:, np.newaxis]\n",
        "sns.heatmap(cm_normalized,annot=True, fmt=\".2f\", cmap=\"Blues\", xticklabels=le.classes_,yticklabels=le.classes_)"
      ],
      "metadata": {
        "colab": {
          "base_uri": "https://localhost:8080/",
          "height": 847
        },
        "id": "GE_mhprte3g3",
        "outputId": "6455f93f-95b8-4a4e-8f1d-89ec8f873772"
      },
      "execution_count": null,
      "outputs": [
        {
          "output_type": "execute_result",
          "data": {
            "text/plain": [
              "<Axes: >"
            ]
          },
          "metadata": {},
          "execution_count": 18
        },
        {
          "output_type": "display_data",
          "data": {
            "text/plain": [
              "<Figure size 1200x900 with 2 Axes>"
            ],
            "image/png": "[encoded data removed]"
          },
          "metadata": {}
        }
      ]
    },
    {
      "cell_type": "markdown",
      "source": [
        "# 4. Comentarios Finales\n",
        "\n",
        "No obstante, el problema principal de este tipo de análisis es la explicabilidad de las variables, ya que cada modelo tiene una forma diferente de establecerla. Aunque existen herramientas como [SHAP](https://shap.readthedocs.io/en/latest/), el volumen de información utilizada para el entrenamiento impide el uso efectivo de esta metodología.\n",
        "\n",
        "Adicional, el uso de este sistema no permite tener una precisión, recall y f1-score que supere lo obtenido por el modelo de XGBoost en solitario, por lo que el siguiente paso será la construcción de un modelo a partir de redes neuronales para identificar si se puede mejorar la precisión.\n",
        "\n",
        "Finalmente, considerando los resultados de los tipos de ataque con menos registros, se evaluará la posibilidad de realización de dos modelos diferentes para cada conjunto de estos ataques, y verificar si esto mejora la predicción en estos casos"
      ],
      "metadata": {
        "id": "8tHgmh74wTin"
      }
    }
  ],
  "metadata": {
    "accelerator": "GPU",
    "colab": {
      "gpuType": "T4",
      "provenance": []
    },
    "kernelspec": {
      "display_name": "Python 3",
      "name": "python3"
    },
    "language_info": {
      "name": "python"
    }
  },
  "nbformat": 4,
  "nbformat_minor": 0
}